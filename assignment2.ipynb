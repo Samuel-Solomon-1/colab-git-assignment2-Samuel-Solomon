{
 "cells": [
  {
   "cell_type": "code",
   "execution_count": null,
   "metadata": {
    "id": "F0kAEABpWU5F"
   },
   "outputs": [],
   "source": []
  },
  {
   "cell_type": "markdown",
   "id": "52930d0b",
   "metadata": {},
   "source": [
    "# Git and GitHub Assignment 2\n",
    "This notebook demonstrates basic Git operations."
   ]
  },
  {
   "cell_type": "code",
   "execution_count": null,
   "id": "73fd7763",
   "metadata": {},
   "outputs": [],
   "source": [
    "def multiply_numbers(a, b):\n",
    "    return a * b\n",
    "print(multiply_numbers(3, 4))"
   ]
  }
 ],
 "metadata": {
  "colab": {
   "provenance": []
  },
  "kernelspec": {
   "display_name": "Python 3",
   "name": "python3"
  },
  "language_info": {
   "name": "python"
  }
 },
 "nbformat": 4,
 "nbformat_minor": 0
}
